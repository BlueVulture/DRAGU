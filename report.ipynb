{
 "cells": [
  {
   "cell_type": "markdown",
   "metadata": {
    "lang": "sl"
   },
   "source": [
    "## Povprečne mesečne plače po občinah\n",
    "\n",
    "### Projek pri podatkovnem rudarjenju\n",
    "\n",
    "Podatkovno rudarjenje, projekt, `2. 3. 2020`  \n",
    "**`Domen Ramšak`** **`Anže Grintal Ugovšek`**"
   ]
  },
  {
   "cell_type": "markdown",
   "metadata": {
    "lang": "sl"
   },
   "source": [
    "Izbran problem (oziroma zbirka podatkov) je Povprečne mesečne plače po občinah, Slovenija, letno.\n",
    "\n",
    "Problem zajema povprečne bruto in neto plače po občinah v Sloveniji, z dodatnimi podatki kot so opravljene (oz. plačane) nadure, število oseb, ki so opravljale nadure na mesec, število oseb, ki so prejele zaostala izplačila itd."
   ]
  },
  {
   "cell_type": "markdown",
   "metadata": {
    "lang": "sl"
   },
   "source": [
    "### Podatki\n",
    "\n"
   ]
  },
  {
   "cell_type": "code",
   "execution_count": 1,
   "metadata": {},
   "outputs": [],
   "source": [
    "import pandas as pd\n",
    "import numpy as np\n",
    "import scipy\n",
    "\n",
    "data = pd.read_excel('podatki/0772615.xlsx', index_col=0, header=1)  \n",
    "\n",
    "data = data.drop([\"Ankaran\", \"Mirna\"])\n",
    "data = data.replace(r'-','0').astype(np.float64)"
   ]
  },
  {
   "cell_type": "code",
   "execution_count": 2,
   "metadata": {},
   "outputs": [],
   "source": [
    "povpMesecnaPlacaNeto = data.iloc[:, 15:30]\n",
    "indeksPovpMesecnaPlacaNeto = data.iloc[:, 45:60]\n",
    "povpPlacaNadure = data.iloc[:, 60:75]\n",
    "povpMesecnaPlacaNetoUra = data.iloc[:, 90:105]\n",
    "indeksPovpMesecnaPlacaNetoUra = data.iloc[:, 120:135]\n",
    "osebeZaostalaPlacila = data.iloc[:, 135:150]\n",
    "osebeNadure = data.iloc[:, 150:165]"
   ]
  },
  {
   "cell_type": "code",
   "execution_count": 3,
   "metadata": {},
   "outputs": [],
   "source": [
    "count = 0\n",
    "for h in range(2005, 2020):\n",
    "    povpMesecnaPlacaNeto = povpMesecnaPlacaNeto.rename(columns={povpMesecnaPlacaNeto.columns[count]: h})\n",
    "    indeksPovpMesecnaPlacaNeto = indeksPovpMesecnaPlacaNeto.rename(columns={indeksPovpMesecnaPlacaNeto.columns[count]: h})\n",
    "    povpPlacaNadure = povpPlacaNadure.rename(columns={povpPlacaNadure.columns[count]: h})\n",
    "    povpMesecnaPlacaNetoUra = povpMesecnaPlacaNetoUra.rename(columns={povpMesecnaPlacaNetoUra.columns[count]: h})\n",
    "    indeksPovpMesecnaPlacaNetoUra = indeksPovpMesecnaPlacaNetoUra.rename(columns={indeksPovpMesecnaPlacaNetoUra.columns[count]: h})\n",
    "    osebeZaostalaPlacila = osebeZaostalaPlacila.rename(columns={osebeZaostalaPlacila.columns[count]: h})\n",
    "    osebeNadure = osebeNadure.rename(columns={osebeNadure.columns[count]: h})\n",
    "    count+=1\n",
    "    \n",
    "indeksPovpMesecnaPlacaNetoUra = indeksPovpMesecnaPlacaNetoUra.drop(columns=2005)"
   ]
  },
  {
   "cell_type": "markdown",
   "metadata": {},
   "source": [
    "### Predstavitev podatkov"
   ]
  },
  {
   "cell_type": "code",
   "execution_count": 228,
   "metadata": {
    "scrolled": false
   },
   "outputs": [],
   "source": [
    "df = pd.DataFrame(columns=range(2005, 2020))\n",
    "df.insert(0, \"\", \"\")\n",
    "df = df.set_index(\"\")\n",
    "\n",
    "for l in range(2005, 2020):\n",
    "    cache = povpMesecnaPlacaNeto.sort_values(l, ascending=0)\n",
    "    \n",
    "    for i in range(0, 3):\n",
    "        if(cache.iloc[:, 0].index[i] not in df.index):\n",
    "            df = df.append(cache.iloc[i, :])\n",
    "    \n",
    "    \n",
    "for l in range(2005, 2020):\n",
    "    cache = povpMesecnaPlacaNeto.sort_values(l, ascending=0)\n",
    "    \n",
    "    for i in range(0, len(df.index)):\n",
    "        if(df.iloc[i, l-2005] not in cache[l].head(3).values):\n",
    "            df.at[df.iloc[:, 0].index[i], l] = 0\n",
    "\n",
    "def h_max(s):\n",
    "    is_max = s == s.max()\n",
    "    return ['background-color: #FF6200' if v else '' for v in is_max]\n",
    "\n",
    "def h_max2(s):\n",
    "    is_max = s == s.nlargest(3).to_numpy()[1]\n",
    "    return ['background-color: #FD9346' if v else '' for v in is_max]\n",
    "\n",
    "def h_max3(s):\n",
    "    is_max = s == s.nlargest(3).to_numpy()[2]\n",
    "    return ['background-color: #FDB777' if v else '' for v in is_max]\n",
    "\n",
    "df = df.round(2)\n",
    "html = df.style.apply(h_max).apply(h_max2).apply(h_max3).format('{0:,.2f}').render()\n",
    "\n"
   ]
  },
  {
   "cell_type": "code",
   "execution_count": 231,
   "metadata": {
    "scrolled": true
   },
   "outputs": [],
   "source": [
    "%%capture cap --no-stderr\n",
    "print(html)\n",
    "with open('output.txt', 'w') as f:\n",
    "    f.write(cap.stdout)"
   ]
  },
  {
   "cell_type": "code",
   "execution_count": null,
   "metadata": {},
   "outputs": [],
   "source": []
  }
 ],
 "metadata": {
  "kernelspec": {
   "display_name": "Python 3",
   "language": "python",
   "name": "python3"
  },
  "language_info": {
   "codemirror_mode": {
    "name": "ipython",
    "version": 3
   },
   "file_extension": ".py",
   "mimetype": "text/x-python",
   "name": "python",
   "nbconvert_exporter": "python",
   "pygments_lexer": "ipython3",
   "version": "3.8.2"
  },
  "latex_envs": {
   "LaTeX_envs_menu_present": true,
   "autocomplete": true,
   "bibliofile": "biblio.bib",
   "cite_by": "apalike",
   "current_citInitial": 1,
   "eqLabelWithNumbers": true,
   "eqNumInitial": 1,
   "hotkeys": {
    "equation": "Ctrl-E",
    "itemize": "Ctrl-I"
   },
   "labels_anchors": false,
   "latex_user_defs": false,
   "report_style_numbering": false,
   "user_envs_cfg": false
  },
  "nbTranslate": {
   "displayLangs": [
    "sl"
   ],
   "hotkey": "alt-t",
   "langInMainMenu": true,
   "sourceLang": "sl",
   "targetLang": "en",
   "useGoogleTranslate": true
  }
 },
 "nbformat": 4,
 "nbformat_minor": 2
}
